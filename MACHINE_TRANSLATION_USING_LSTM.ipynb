{
 "cells": [
  {
   "cell_type": "code",
   "execution_count": 1,
   "metadata": {
    "_cell_guid": "b1076dfc-b9ad-4769-8c92-a6c4dae69d19",
    "_uuid": "8f2839f25d086af736a60e9eeb907d3b93b6e0e5",
    "colab": {
     "base_uri": "https://localhost:8080/"
    },
    "id": "G50NSk3VF0Sj",
    "outputId": "3aba0089-e9f5-443e-f483-e8d6374d0c11"
   },
   "outputs": [
    {
     "name": "stderr",
     "output_type": "stream",
     "text": [
      "<ipython-input-1-9501c12dbd28>:28: FutureWarning: Passing a negative integer is deprecated in version 1.0 and will not be supported in future version. Instead, use None to not limit the column width.\n",
      "  pd.set_option('display.max_colwidth', -1)\n"
     ]
    }
   ],
   "source": [
    "import numpy as np # linear algebra\n",
    "import pandas as pd # data processing, CSV file I/O (e.g. pd.read_csv)\n",
    "\n",
    "# Input data files are available in the \"../input/\" directory.\n",
    "# For example, running this (by clicking run or pressing Shift+Enter) will list the files in the input directory\n",
    "\n",
    "import os\n",
    "import string\n",
    "from string import digits\n",
    "import matplotlib.pyplot as plt\n",
    "%matplotlib inline\n",
    "import re\n",
    "\n",
    "import seaborn as sns\n",
    "from sklearn.utils import shuffle\n",
    "from sklearn.model_selection import train_test_split\n",
    "from keras.layers import Input, LSTM, Embedding, Dense\n",
    "from keras.models import Model\n",
    "\n",
    "\n",
    "pd.set_option('display.max_rows', 500)\n",
    "pd.set_option('display.max_columns', 500)\n",
    "pd.set_option('display.width', 1000)\n",
    "pd.set_option('display.max_colwidth', -1)\n",
    "\n",
    "# Any results you write to the current directory are saved as output."
   ]
  },
  {
   "cell_type": "markdown",
   "metadata": {
    "id": "Y0l4rku2zq3B"
   },
   "source": [
    "> ## **Exploratory Data Analysis:**"
   ]
  },
  {
   "cell_type": "code",
   "execution_count": 2,
   "metadata": {
    "_cell_guid": "79c7e3d0-c299-4dcb-8224-4455121ee9b0",
    "_uuid": "d629ff2d2480ee46fbb7e2d37f6b5fab8052498a",
    "colab": {
     "base_uri": "https://localhost:8080/"
    },
    "id": "ar506ExGF0Sl",
    "outputId": "886437ec-b80c-4a11-ba53-1f2449f9f294"
   },
   "outputs": [
    {
     "data": {
      "text/plain": [
       "(319228, 2)"
      ]
     },
     "execution_count": 2,
     "metadata": {},
     "output_type": "execute_result"
    }
   ],
   "source": [
    "lines = pd.read_csv(\"news-commentary-v15.en-ru.tsv\",sep='\\t',names=[\"English\",\"Russian\"])\n",
    "lines.shape"
   ]
  },
  {
   "cell_type": "code",
   "execution_count": 3,
   "metadata": {
    "colab": {
     "base_uri": "https://localhost:8080/"
    },
    "id": "JKquEeF5F0Sm",
    "outputId": "cf421f09-7b1e-4adc-84fd-93e6da04d7ee"
   },
   "outputs": [
    {
     "data": {
      "text/plain": [
       "English    10389\n",
       "Russian    8301 \n",
       "dtype: int64"
      ]
     },
     "execution_count": 3,
     "metadata": {},
     "output_type": "execute_result"
    }
   ],
   "source": [
    "pd.isnull(lines).sum()"
   ]
  },
  {
   "cell_type": "code",
   "execution_count": 4,
   "metadata": {
    "id": "mxSkVWZ0F0Sm"
   },
   "outputs": [],
   "source": [
    "lines=lines[~pd.isnull(lines['English'])]\n",
    "lines=lines[~pd.isnull(lines['Russian'])]"
   ]
  },
  {
   "cell_type": "code",
   "execution_count": 5,
   "metadata": {
    "id": "5eIngttKF0Sn"
   },
   "outputs": [],
   "source": [
    "lines.drop_duplicates(inplace=True)"
   ]
  },
  {
   "cell_type": "code",
   "execution_count": 6,
   "metadata": {
    "colab": {
     "base_uri": "https://localhost:8080/"
    },
    "id": "SRh1Qgn7q_Pp",
    "outputId": "e98b911a-1262-4292-9801-9cc290ea906a"
   },
   "outputs": [
    {
     "data": {
      "text/plain": [
       "English    0\n",
       "Russian    0\n",
       "dtype: int64"
      ]
     },
     "execution_count": 6,
     "metadata": {},
     "output_type": "execute_result"
    }
   ],
   "source": [
    "pd.isnull(lines).sum()"
   ]
  },
  {
   "cell_type": "code",
   "execution_count": 7,
   "metadata": {
    "colab": {
     "base_uri": "https://localhost:8080/"
    },
    "id": "iJtTwrglRfO0",
    "outputId": "7ae854c6-deed-4919-f951-adab232f8b6b"
   },
   "outputs": [
    {
     "data": {
      "text/plain": [
       "(304584, 2)"
      ]
     },
     "execution_count": 7,
     "metadata": {},
     "output_type": "execute_result"
    }
   ],
   "source": [
    "lines.shape"
   ]
  },
  {
   "cell_type": "markdown",
   "metadata": {
    "id": "6Vu47OyKF0Sn"
   },
   "source": [
    "> ## **Data Pre-Processing 1:**\n",
    "*  Here we select 60000 rows randomly from the dataset. (20% of training data)\n",
    "*  We lowercase all the characters. \n",
    "*  We remove quotes, special characters, digits and extra spaces.\n",
    "*  We add START and END tokens to each line in the dataset.\n",
    "\n",
    "\n",
    "\n"
   ]
  },
  {
   "cell_type": "code",
   "execution_count": 8,
   "metadata": {
    "colab": {
     "base_uri": "https://localhost:8080/"
    },
    "id": "1Op8JpYRF0So",
    "outputId": "76ccffc0-a46f-4180-c1bd-2d44d26fb29d"
   },
   "outputs": [
    {
     "data": {
      "text/plain": [
       "(60000, 2)"
      ]
     },
     "execution_count": 8,
     "metadata": {},
     "output_type": "execute_result"
    }
   ],
   "source": [
    "lines=lines.sample(n= 60000,random_state=42)\n",
    "lines.shape"
   ]
  },
  {
   "cell_type": "code",
   "execution_count": 9,
   "metadata": {
    "id": "YzEqUEjWF0So"
   },
   "outputs": [],
   "source": [
    "# Lowercase all characters\n",
    "lines['English']=lines['English'].apply(lambda x: x.lower())\n",
    "lines['Russian']=lines['Russian'].apply(lambda x: x.lower())\n",
    "\n",
    "# Remove quotes\n",
    "lines['English']=lines['English'].apply(lambda x: re.sub(\"'\", '', x))\n",
    "lines['Russian']=lines['Russian'].apply(lambda x: re.sub(\"'\", '', x))\n",
    "\n",
    "# Remove all numbers from text\n",
    "remove_digits = str.maketrans('', '', digits)\n",
    "lines['English']= lines['English'].apply(lambda x: x.translate(remove_digits))\n",
    "lines['Russian'] = lines['Russian'].apply(lambda x: re.sub(\"[1234567890]\", \"\", x))\n",
    "\n",
    "exclude = set(string.punctuation) # Set of all special characters\n",
    "# Remove all the special characters\n",
    "lines['English']=lines['English'].apply(lambda x: ''.join(ch for ch in x if ch not in exclude))\n",
    "lines['Russian']=lines['Russian'].apply(lambda x: ''.join(ch for ch in x if ch not in exclude))\n",
    "\n",
    "# Remove extra spaces\n",
    "lines['English']=lines['English'].apply(lambda x: x.strip())\n",
    "lines['Russian']=lines['Russian'].apply(lambda x: x.strip())\n",
    "lines['English']=lines['English'].apply(lambda x: re.sub(\" +\", \" \", x))\n",
    "lines['Russian']=lines['Russian'].apply(lambda x: re.sub(\" +\", \" \", x))\n",
    "\n",
    "# Add start and end tokens to target sequences\n",
    "lines['Russian'] = lines['Russian'].apply(lambda x : 'START_ '+ x + ' _END')"
   ]
  },
  {
   "cell_type": "code",
   "execution_count": 10,
   "metadata": {
    "colab": {
     "base_uri": "https://localhost:8080/",
     "height": 313
    },
    "id": "n8eNVcIFF0Sr",
    "outputId": "0563e4ae-fa19-4aa3-c848-d8ca12a5d98f"
   },
   "outputs": [
    {
     "data": {
      "text/html": [
       "<div>\n",
       "<style scoped>\n",
       "    .dataframe tbody tr th:only-of-type {\n",
       "        vertical-align: middle;\n",
       "    }\n",
       "\n",
       "    .dataframe tbody tr th {\n",
       "        vertical-align: top;\n",
       "    }\n",
       "\n",
       "    .dataframe thead th {\n",
       "        text-align: right;\n",
       "    }\n",
       "</style>\n",
       "<table border=\"1\" class=\"dataframe\">\n",
       "  <thead>\n",
       "    <tr style=\"text-align: right;\">\n",
       "      <th></th>\n",
       "      <th>English</th>\n",
       "      <th>Russian</th>\n",
       "    </tr>\n",
       "  </thead>\n",
       "  <tbody>\n",
       "    <tr>\n",
       "      <th>109136</th>\n",
       "      <td>it was ruled unconstitutional but it began a process of budget consolidation</td>\n",
       "      <td>START_ он не соответствовал конституции но положил начало процессу консолидации бюджета _END</td>\n",
       "    </tr>\n",
       "    <tr>\n",
       "      <th>253831</th>\n",
       "      <td>the stranger consciously or unconsciously is always a potential or partial exile and all real writers are perpetual exiles from this world even when like proust they hardly leave their rooms</td>\n",
       "      <td>START_ посторонний человек сознательно или бессознательно всегда потенциальный или частичный изгнанник а все настоящие писатели вечные изгнанники из этого мира даже когда они подобно прусту лишь изредка выходят из дома _END</td>\n",
       "    </tr>\n",
       "    <tr>\n",
       "      <th>3832</th>\n",
       "      <td>this would augment the diplomatic and moral capital available to diplomats as they strive to restrain nuclear proliferation in a world where more countries than ever have the wherewithal to construct a nuclear bomb</td>\n",
       "      <td>START_ ядерные державы должны придерживаться требований договора о нераспространении ядерного оружия года и возобновить добросовестные переговоры относительно разоружения это бы нарастило дипломатический и моральный капитал доступный дипломатам поскольку они стремятся ограничить распространение ядерного оружия в мире где у большего чем когдалибо числа стран есть средства чтобы создать ядерную бомбу _END</td>\n",
       "    </tr>\n",
       "    <tr>\n",
       "      <th>230123</th>\n",
       "      <td>it was the credibility of the united states’ threat of military intervention that seems to have led syrian president bashar alassad to cut a deal brokered by his main allies russia and less directly iran</td>\n",
       "      <td>START_ судя по всему именно вера в угрозу военного вмешательства сша привела сирийского президента башара альасада к заключению сделки при посредничестве своих главных союзников россии и менее непосредственно ирана _END</td>\n",
       "    </tr>\n",
       "    <tr>\n",
       "      <th>170530</th>\n",
       "      <td>in discussing this issue what constitutes modernization is often confused with westernization understanding the difference is vital</td>\n",
       "      <td>START_ при обсуждении этого вопроса однако модернизацию очень часто ошибочно принимают за вестернизацию в то время как совершенно необходимо понимать разницу между этими двумя концепциями _END</td>\n",
       "    </tr>\n",
       "  </tbody>\n",
       "</table>\n",
       "</div>"
      ],
      "text/plain": [
       "                                                                                                                                                                                                                       English                                                                                                                                                                                                                                                                                                                                                                                                                 Russian\n",
       "109136  it was ruled unconstitutional but it began a process of budget consolidation                                                                                                                                            START_ он не соответствовал конституции но положил начало процессу консолидации бюджета _END                                                                                                                                                                                                                                                                                                                          \n",
       "253831  the stranger consciously or unconsciously is always a potential or partial exile and all real writers are perpetual exiles from this world even when like proust they hardly leave their rooms                          START_ посторонний человек сознательно или бессознательно всегда потенциальный или частичный изгнанник а все настоящие писатели вечные изгнанники из этого мира даже когда они подобно прусту лишь изредка выходят из дома _END                                                                                                                                                                                       \n",
       "3832    this would augment the diplomatic and moral capital available to diplomats as they strive to restrain nuclear proliferation in a world where more countries than ever have the wherewithal to construct a nuclear bomb  START_ ядерные державы должны придерживаться требований договора о нераспространении ядерного оружия года и возобновить добросовестные переговоры относительно разоружения это бы нарастило дипломатический и моральный капитал доступный дипломатам поскольку они стремятся ограничить распространение ядерного оружия в мире где у большего чем когдалибо числа стран есть средства чтобы создать ядерную бомбу _END\n",
       "230123  it was the credibility of the united states’ threat of military intervention that seems to have led syrian president bashar alassad to cut a deal brokered by his main allies russia and less directly iran             START_ судя по всему именно вера в угрозу военного вмешательства сша привела сирийского президента башара альасада к заключению сделки при посредничестве своих главных союзников россии и менее непосредственно ирана _END                                                                                                                                                                                           \n",
       "170530  in discussing this issue what constitutes modernization is often confused with westernization understanding the difference is vital                                                                                     START_ при обсуждении этого вопроса однако модернизацию очень часто ошибочно принимают за вестернизацию в то время как совершенно необходимо понимать разницу между этими двумя концепциями _END                                                                                                                                                                                                                      "
      ]
     },
     "execution_count": 10,
     "metadata": {},
     "output_type": "execute_result"
    }
   ],
   "source": [
    "lines.head()"
   ]
  },
  {
   "cell_type": "code",
   "execution_count": 11,
   "metadata": {
    "id": "seeyaBqKF0Sr"
   },
   "outputs": [],
   "source": [
    "# Get English and Russian Vocabulary\n",
    "all_eng_words=set()\n",
    "for eng in lines['English']:\n",
    "    for word in eng.split():\n",
    "        if word not in all_eng_words:\n",
    "            all_eng_words.add(word)\n",
    "\n",
    "all_rus_words=set()\n",
    "for rus in lines['Russian']:\n",
    "    for word in rus.split():\n",
    "        if word not in all_rus_words:\n",
    "            all_rus_words.add(word)"
   ]
  },
  {
   "cell_type": "code",
   "execution_count": 12,
   "metadata": {
    "colab": {
     "base_uri": "https://localhost:8080/"
    },
    "id": "5SPfzlasF0Sr",
    "outputId": "ee8101f0-0824-4d60-8a4b-963f4b55af9a"
   },
   "outputs": [
    {
     "data": {
      "text/plain": [
       "45257"
      ]
     },
     "execution_count": 12,
     "metadata": {},
     "output_type": "execute_result"
    }
   ],
   "source": [
    "len(all_eng_words)"
   ]
  },
  {
   "cell_type": "code",
   "execution_count": 13,
   "metadata": {
    "colab": {
     "base_uri": "https://localhost:8080/"
    },
    "id": "3pr9OK8GF0Sr",
    "outputId": "3eb1bf40-747c-47fa-b52a-d0210011efa7"
   },
   "outputs": [
    {
     "data": {
      "text/plain": [
       "99936"
      ]
     },
     "execution_count": 13,
     "metadata": {},
     "output_type": "execute_result"
    }
   ],
   "source": [
    "len(all_rus_words)"
   ]
  },
  {
   "cell_type": "code",
   "execution_count": 14,
   "metadata": {
    "id": "PypJT99vF0Ss"
   },
   "outputs": [],
   "source": [
    "lines['length_eng_sentence']= lines['English'].apply(lambda x:len(x.split(\" \")))\n",
    "lines['length_rus_sentence']= lines['Russian'].apply(lambda x:len(x.split(\" \")))"
   ]
  },
  {
   "cell_type": "code",
   "execution_count": 72,
   "metadata": {},
   "outputs": [
    {
     "data": {
      "text/plain": [
       "'so far the us has handled the various forms of political transition in the arab spring without severely damaging missteps'"
      ]
     },
     "execution_count": 72,
     "metadata": {},
     "output_type": "execute_result"
    }
   ],
   "source": [
    "lines['English'][5]"
   ]
  },
  {
   "cell_type": "code",
   "execution_count": 56,
   "metadata": {},
   "outputs": [],
   "source": [
    "lines.reset_index(inplace=True)"
   ]
  },
  {
   "cell_type": "code",
   "execution_count": 74,
   "metadata": {},
   "outputs": [],
   "source": [
    "# count=0\n",
    "# def Check_Vow(string, vowels,count):\n",
    "#     final= [each for each in string if each in vowels]\n",
    "#     b=len(final)\n",
    "#     print(b)\n",
    "# #     print(len(final))\n",
    "# #     print(final)\n",
    "     \n",
    "# # Driver Code\n",
    "# string = lines['English']\n",
    "# vowels = \"AaEeIiOoUu\"\n",
    "# for i in range(60):\n",
    "#     Check_Vow(lines['English'][i], vowels,a);\n",
    "# print(a)"
   ]
  },
  {
   "cell_type": "code",
   "execution_count": 15,
   "metadata": {
    "colab": {
     "base_uri": "https://localhost:8080/",
     "height": 395
    },
    "id": "PukR16gdF0Ss",
    "outputId": "81f1a9cc-c9ee-406a-a6aa-f90886341668"
   },
   "outputs": [
    {
     "data": {
      "text/html": [
       "<div>\n",
       "<style scoped>\n",
       "    .dataframe tbody tr th:only-of-type {\n",
       "        vertical-align: middle;\n",
       "    }\n",
       "\n",
       "    .dataframe tbody tr th {\n",
       "        vertical-align: top;\n",
       "    }\n",
       "\n",
       "    .dataframe thead th {\n",
       "        text-align: right;\n",
       "    }\n",
       "</style>\n",
       "<table border=\"1\" class=\"dataframe\">\n",
       "  <thead>\n",
       "    <tr style=\"text-align: right;\">\n",
       "      <th></th>\n",
       "      <th>English</th>\n",
       "      <th>Russian</th>\n",
       "      <th>length_eng_sentence</th>\n",
       "      <th>length_rus_sentence</th>\n",
       "    </tr>\n",
       "  </thead>\n",
       "  <tbody>\n",
       "    <tr>\n",
       "      <th>109136</th>\n",
       "      <td>it was ruled unconstitutional but it began a process of budget consolidation</td>\n",
       "      <td>START_ он не соответствовал конституции но положил начало процессу консолидации бюджета _END</td>\n",
       "      <td>12</td>\n",
       "      <td>12</td>\n",
       "    </tr>\n",
       "    <tr>\n",
       "      <th>253831</th>\n",
       "      <td>the stranger consciously or unconsciously is always a potential or partial exile and all real writers are perpetual exiles from this world even when like proust they hardly leave their rooms</td>\n",
       "      <td>START_ посторонний человек сознательно или бессознательно всегда потенциальный или частичный изгнанник а все настоящие писатели вечные изгнанники из этого мира даже когда они подобно прусту лишь изредка выходят из дома _END</td>\n",
       "      <td>31</td>\n",
       "      <td>31</td>\n",
       "    </tr>\n",
       "    <tr>\n",
       "      <th>3832</th>\n",
       "      <td>this would augment the diplomatic and moral capital available to diplomats as they strive to restrain nuclear proliferation in a world where more countries than ever have the wherewithal to construct a nuclear bomb</td>\n",
       "      <td>START_ ядерные державы должны придерживаться требований договора о нераспространении ядерного оружия года и возобновить добросовестные переговоры относительно разоружения это бы нарастило дипломатический и моральный капитал доступный дипломатам поскольку они стремятся ограничить распространение ядерного оружия в мире где у большего чем когдалибо числа стран есть средства чтобы создать ядерную бомбу _END</td>\n",
       "      <td>34</td>\n",
       "      <td>50</td>\n",
       "    </tr>\n",
       "    <tr>\n",
       "      <th>230123</th>\n",
       "      <td>it was the credibility of the united states’ threat of military intervention that seems to have led syrian president bashar alassad to cut a deal brokered by his main allies russia and less directly iran</td>\n",
       "      <td>START_ судя по всему именно вера в угрозу военного вмешательства сша привела сирийского президента башара альасада к заключению сделки при посредничестве своих главных союзников россии и менее непосредственно ирана _END</td>\n",
       "      <td>35</td>\n",
       "      <td>30</td>\n",
       "    </tr>\n",
       "    <tr>\n",
       "      <th>170530</th>\n",
       "      <td>in discussing this issue what constitutes modernization is often confused with westernization understanding the difference is vital</td>\n",
       "      <td>START_ при обсуждении этого вопроса однако модернизацию очень часто ошибочно принимают за вестернизацию в то время как совершенно необходимо понимать разницу между этими двумя концепциями _END</td>\n",
       "      <td>17</td>\n",
       "      <td>26</td>\n",
       "    </tr>\n",
       "  </tbody>\n",
       "</table>\n",
       "</div>"
      ],
      "text/plain": [
       "                                                                                                                                                                                                                       English                                                                                                                                                                                                                                                                                                                                                                                                                 Russian  length_eng_sentence  length_rus_sentence\n",
       "109136  it was ruled unconstitutional but it began a process of budget consolidation                                                                                                                                            START_ он не соответствовал конституции но положил начало процессу консолидации бюджета _END                                                                                                                                                                                                                                                                                                                            12                   12                 \n",
       "253831  the stranger consciously or unconsciously is always a potential or partial exile and all real writers are perpetual exiles from this world even when like proust they hardly leave their rooms                          START_ посторонний человек сознательно или бессознательно всегда потенциальный или частичный изгнанник а все настоящие писатели вечные изгнанники из этого мира даже когда они подобно прусту лишь изредка выходят из дома _END                                                                                                                                                                                         31                   31                 \n",
       "3832    this would augment the diplomatic and moral capital available to diplomats as they strive to restrain nuclear proliferation in a world where more countries than ever have the wherewithal to construct a nuclear bomb  START_ ядерные державы должны придерживаться требований договора о нераспространении ядерного оружия года и возобновить добросовестные переговоры относительно разоружения это бы нарастило дипломатический и моральный капитал доступный дипломатам поскольку они стремятся ограничить распространение ядерного оружия в мире где у большего чем когдалибо числа стран есть средства чтобы создать ядерную бомбу _END  34                   50                 \n",
       "230123  it was the credibility of the united states’ threat of military intervention that seems to have led syrian president bashar alassad to cut a deal brokered by his main allies russia and less directly iran             START_ судя по всему именно вера в угрозу военного вмешательства сша привела сирийского президента башара альасада к заключению сделки при посредничестве своих главных союзников россии и менее непосредственно ирана _END                                                                                                                                                                                             35                   30                 \n",
       "170530  in discussing this issue what constitutes modernization is often confused with westernization understanding the difference is vital                                                                                     START_ при обсуждении этого вопроса однако модернизацию очень часто ошибочно принимают за вестернизацию в то время как совершенно необходимо понимать разницу между этими двумя концепциями _END                                                                                                                                                                                                                        17                   26                 "
      ]
     },
     "execution_count": 15,
     "metadata": {},
     "output_type": "execute_result"
    }
   ],
   "source": [
    "lines.head()"
   ]
  },
  {
   "cell_type": "code",
   "execution_count": 16,
   "metadata": {
    "id": "xul7_m-xF0St"
   },
   "outputs": [],
   "source": [
    "lines= lines[lines['length_eng_sentence']<=20]\n",
    "lines= lines[lines['length_rus_sentence']<=20]"
   ]
  },
  {
   "cell_type": "code",
   "execution_count": 17,
   "metadata": {
    "colab": {
     "base_uri": "https://localhost:8080/"
    },
    "id": "zFcM-L4xF0St",
    "outputId": "72d42780-e8b8-436c-89c2-a1754a2166d7"
   },
   "outputs": [
    {
     "data": {
      "text/plain": [
       "(24889, 4)"
      ]
     },
     "execution_count": 17,
     "metadata": {},
     "output_type": "execute_result"
    }
   ],
   "source": [
    "lines.shape"
   ]
  },
  {
   "cell_type": "code",
   "execution_count": 18,
   "metadata": {
    "colab": {
     "base_uri": "https://localhost:8080/"
    },
    "id": "YCsuMwrkF0St",
    "outputId": "30d659b7-4d5d-46d5-c321-6002f9bd9147"
   },
   "outputs": [
    {
     "name": "stdout",
     "output_type": "stream",
     "text": [
      "Maximum length of Russian Sentence 20\n",
      "maximum length of English Sentence 20\n"
     ]
    }
   ],
   "source": [
    "print(\"Maximum length of Russian Sentence\",max(lines['length_rus_sentence']))\n",
    "print(\"maximum length of English Sentence\",max(lines['length_eng_sentence']))"
   ]
  },
  {
   "cell_type": "code",
   "execution_count": 19,
   "metadata": {
    "colab": {
     "base_uri": "https://localhost:8080/"
    },
    "id": "qt9OvvGmnKHw",
    "outputId": "0148c8a2-7ba4-4789-920a-e2c9702df5ed"
   },
   "outputs": [
    {
     "name": "stdout",
     "output_type": "stream",
     "text": [
      "Average number of words in a Russian Sentence 13.118003937482422\n",
      "Average number of words in a English Sentence 12.39278396078589\n"
     ]
    }
   ],
   "source": [
    "print(\"Average number of words in a Russian Sentence\",np.mean(lines['length_rus_sentence']))\n",
    "print(\"Average number of words in a English Sentence\",np.mean(lines['length_eng_sentence']))"
   ]
  },
  {
   "cell_type": "markdown",
   "metadata": {
    "id": "KDrWIiWjz84i"
   },
   "source": [
    "> **When we set the maximum number of words in a sentence to 20, we observe that average number of words in Russian sentence is comparatively greater than in English sentence. This means that, when translated Russian sentences will have extra prepositions and articles in it.**"
   ]
  },
  {
   "cell_type": "code",
   "execution_count": 20,
   "metadata": {
    "id": "TdaXO2qBF0Su"
   },
   "outputs": [],
   "source": [
    "max_length_src= max(lines['length_rus_sentence'])\n",
    "max_length_tar= max(lines['length_eng_sentence'])"
   ]
  },
  {
   "cell_type": "code",
   "execution_count": 21,
   "metadata": {
    "colab": {
     "base_uri": "https://localhost:8080/"
    },
    "id": "d58zvPARF0Su",
    "outputId": "b3071e85-558f-4d33-ef7a-6cce3379bdec"
   },
   "outputs": [
    {
     "data": {
      "text/plain": [
       "(45257, 99936)"
      ]
     },
     "execution_count": 21,
     "metadata": {},
     "output_type": "execute_result"
    }
   ],
   "source": [
    "input_words= sorted(list(all_eng_words))\n",
    "target_words= sorted(list(all_rus_words))\n",
    "num_encoder_tokens= len(all_eng_words)\n",
    "num_decoder_tokens= len(all_rus_words)\n",
    "num_encoder_tokens, num_decoder_tokens"
   ]
  },
  {
   "cell_type": "code",
   "execution_count": 22,
   "metadata": {
    "id": "CJ68_B1oF0Su"
   },
   "outputs": [],
   "source": [
    "num_decoder_tokens += 1 #for zero padding"
   ]
  },
  {
   "cell_type": "code",
   "execution_count": 23,
   "metadata": {
    "id": "os71nn-zF0Su"
   },
   "outputs": [],
   "source": [
    "input_token_index= dict([(word, i+1) for i, word in enumerate(input_words)])\n",
    "target_token_index= dict([(word, i+1) for i, word in enumerate(target_words)])\n",
    "\n",
    "reverse_input_char_index= dict((i, word) for word, i in input_token_index.items())\n",
    "reverse_target_char_index= dict((i, word) for word, i in target_token_index.items())"
   ]
  },
  {
   "cell_type": "code",
   "execution_count": 24,
   "metadata": {
    "id": "igtjb33yF0Sv"
   },
   "outputs": [],
   "source": [
    "lines= shuffle(lines)"
   ]
  },
  {
   "cell_type": "markdown",
   "metadata": {
    "id": "SJ3zvguSF0Sv"
   },
   "source": [
    "### Split the data into train and test."
   ]
  },
  {
   "cell_type": "code",
   "execution_count": 25,
   "metadata": {
    "colab": {
     "base_uri": "https://localhost:8080/"
    },
    "id": "J1innBHNF0Sv",
    "outputId": "904bc2d2-7a9e-4fd4-c5ef-1acfd5d0b9c3"
   },
   "outputs": [
    {
     "data": {
      "text/plain": [
       "((16177,), (8712,))"
      ]
     },
     "execution_count": 25,
     "metadata": {},
     "output_type": "execute_result"
    }
   ],
   "source": [
    "X, y = lines['English'], lines['Russian']\n",
    "X_train, X_test, y_train, y_test = train_test_split(X, y, test_size = 0.35,random_state=42)\n",
    "X_train.shape, X_test.shape"
   ]
  },
  {
   "cell_type": "markdown",
   "metadata": {
    "id": "kRXKdH0DF0Sv"
   },
   "source": [
    "### Save both train and test data."
   ]
  },
  {
   "cell_type": "code",
   "execution_count": 26,
   "metadata": {
    "id": "0O6DaMKxF0Sv"
   },
   "outputs": [],
   "source": [
    "X_train.to_pickle('X_train.pkl')\n",
    "X_test.to_pickle('X_test.pkl')"
   ]
  },
  {
   "cell_type": "code",
   "execution_count": 27,
   "metadata": {
    "id": "v4-P6PB1F0Sv"
   },
   "outputs": [],
   "source": [
    "def generate_batch(X = X_train, y = y_train, batch_size = 128):\n",
    "    ''' Generate a batch of data '''\n",
    "    while True:\n",
    "        for j in range(0, len(X), batch_size):\n",
    "            encoder_input_data = np.zeros((batch_size, max_length_src),dtype='float32')\n",
    "            decoder_input_data = np.zeros((batch_size, max_length_tar),dtype='float32')\n",
    "            decoder_target_data = np.zeros((batch_size, max_length_tar, num_decoder_tokens),dtype='float32')\n",
    "            for i, (input_text, target_text) in enumerate(zip(X[j:j+batch_size], y[j:j+batch_size])):\n",
    "                for t, word in enumerate(input_text.split()):\n",
    "                    encoder_input_data[i, t] = input_token_index[word] # encoder input seq\n",
    "                for t, word in enumerate(target_text.split()):\n",
    "                    if t<len(target_text.split())-1:\n",
    "                        decoder_input_data[i, t] = target_token_index[word] # decoder input seq\n",
    "                    if t>0:\n",
    "                        # decoder target sequence (one hot encoded) does not include the START_ token\n",
    "                        # Offset by one timestep\n",
    "                        decoder_target_data[i, t - 1, target_token_index[word]] = 1.\n",
    "            yield([encoder_input_data, decoder_input_data], decoder_target_data)"
   ]
  },
  {
   "cell_type": "markdown",
   "metadata": {
    "id": "nj2uRITcF0Sw"
   },
   "source": [
    "> ## **Learning Model:**\n",
    "\n",
    "\n",
    "* We are using the sequence to sequence model (Encoder-Decoder Architecture) with LSTM.\n",
    "\n"
   ]
  },
  {
   "cell_type": "code",
   "execution_count": 28,
   "metadata": {
    "id": "PpLswqQzF0Sw"
   },
   "outputs": [],
   "source": [
    "latent_dim= 300"
   ]
  },
  {
   "cell_type": "code",
   "execution_count": 29,
   "metadata": {
    "id": "D-T3Xos3F0Sw"
   },
   "outputs": [],
   "source": [
    "# Encoder\n",
    "encoder_inputs = Input(shape=(None,))\n",
    "enc_emb =  Embedding(num_encoder_tokens, latent_dim, mask_zero = True)(encoder_inputs)\n",
    "encoder_lstm = LSTM(latent_dim, return_state=True)\n",
    "encoder_outputs, state_h, state_c = encoder_lstm(enc_emb)\n",
    "\n",
    "# We discard `encoder_outputs` and only keep the states.\n",
    "encoder_states = [state_h, state_c]"
   ]
  },
  {
   "cell_type": "code",
   "execution_count": 30,
   "metadata": {
    "id": "fdJbUCZnF0Sx"
   },
   "outputs": [],
   "source": [
    "# Set up the decoder, using `encoder_states` as initial state.\n",
    "decoder_inputs = Input(shape=(None,))\n",
    "dec_emb_layer = Embedding(num_decoder_tokens, latent_dim, mask_zero = True)\n",
    "dec_emb = dec_emb_layer(decoder_inputs)\n",
    "\n",
    "# We set up our decoder to return full output sequences and to return internal states as well. \n",
    "# We don't use the return states in the training model, but we will use them in inference.\n",
    "decoder_lstm = LSTM(latent_dim, return_sequences=True, return_state=True)\n",
    "decoder_outputs, _, _ = decoder_lstm(dec_emb,\n",
    "                                     initial_state=encoder_states)\n",
    "decoder_dense = Dense(num_decoder_tokens, activation='softmax')\n",
    "decoder_outputs = decoder_dense(decoder_outputs)\n",
    "\n",
    "# Define the model that will turn `encoder_input_data` & `decoder_input_data` into `decoder_target_data`\n",
    "model = Model([encoder_inputs, decoder_inputs], decoder_outputs)"
   ]
  },
  {
   "cell_type": "code",
   "execution_count": 31,
   "metadata": {
    "id": "kezKXfaY0PZh"
   },
   "outputs": [],
   "source": [
    "import tensorflow as tf\n",
    "rms= tf.optimizers.RMSprop(learning_rate= 0.01)\n",
    "model.compile(optimizer=rms, loss='categorical_crossentropy', metrics= ['accuracy'])"
   ]
  },
  {
   "cell_type": "code",
   "execution_count": 32,
   "metadata": {
    "colab": {
     "base_uri": "https://localhost:8080/"
    },
    "id": "MufHCRpb0UPq",
    "outputId": "ead2aaf0-6abb-4d5b-aa53-b89be94798f3"
   },
   "outputs": [
    {
     "name": "stdout",
     "output_type": "stream",
     "text": [
      "Model: \"model\"\n",
      "__________________________________________________________________________________________________\n",
      "Layer (type)                    Output Shape         Param #     Connected to                     \n",
      "==================================================================================================\n",
      "input_1 (InputLayer)            [(None, None)]       0                                            \n",
      "__________________________________________________________________________________________________\n",
      "input_2 (InputLayer)            [(None, None)]       0                                            \n",
      "__________________________________________________________________________________________________\n",
      "embedding (Embedding)           (None, None, 300)    13577100    input_1[0][0]                    \n",
      "__________________________________________________________________________________________________\n",
      "embedding_1 (Embedding)         (None, None, 300)    29981100    input_2[0][0]                    \n",
      "__________________________________________________________________________________________________\n",
      "lstm (LSTM)                     [(None, 300), (None, 721200      embedding[0][0]                  \n",
      "__________________________________________________________________________________________________\n",
      "lstm_1 (LSTM)                   [(None, None, 300),  721200      embedding_1[0][0]                \n",
      "                                                                 lstm[0][1]                       \n",
      "                                                                 lstm[0][2]                       \n",
      "__________________________________________________________________________________________________\n",
      "dense (Dense)                   (None, None, 99937)  30081037    lstm_1[0][0]                     \n",
      "==================================================================================================\n",
      "Total params: 75,081,637\n",
      "Trainable params: 75,081,637\n",
      "Non-trainable params: 0\n",
      "__________________________________________________________________________________________________\n"
     ]
    }
   ],
   "source": [
    "model.summary()"
   ]
  },
  {
   "cell_type": "code",
   "execution_count": 33,
   "metadata": {
    "colab": {
     "base_uri": "https://localhost:8080/",
     "height": 532
    },
    "id": "MpQ3rZIWa0UA",
    "outputId": "868f0eef-cc57-4a12-ec55-d690367d7b74",
    "scrolled": true
   },
   "outputs": [
    {
     "data": {
      "image/png": "[encoded data removed]",
      "text/plain": [
       "<IPython.core.display.Image object>"
      ]
     },
     "execution_count": 33,
     "metadata": {},
     "output_type": "execute_result"
    }
   ],
   "source": [
    "# Plot the model\n",
    "from tensorflow.keras.utils import plot_model\n",
    "plot_model(model, to_file='model.png', show_shapes=True)"
   ]
  },
  {
   "cell_type": "code",
   "execution_count": 33,
   "metadata": {
    "id": "A-XomWF3F0Sx"
   },
   "outputs": [],
   "source": [
    "train_samples = len(X_train)\n",
    "val_samples = len(X_test)\n",
    "batch_size = 128\n",
    "epochs = 30\n",
    "\n",
    "s = train_samples/batch_size\n",
    "v = val_samples/batch_size"
   ]
  },
  {
   "cell_type": "code",
   "execution_count": 36,
   "metadata": {
    "colab": {
     "base_uri": "https://localhost:8080/"
    },
    "id": "dy0AU8OQF0Sx",
    "outputId": "4e513ec7-9388-40eb-9c3f-c2853fc303af"
   },
   "outputs": [
    {
     "name": "stderr",
     "output_type": "stream",
     "text": [
      "/usr/local/lib/python3.7/dist-packages/keras/engine/training.py:1972: UserWarning: `Model.fit_generator` is deprecated and will be removed in a future version. Please use `Model.fit`, which supports generators.\n",
      "  warnings.warn('`Model.fit_generator` is deprecated and '\n"
     ]
    },
    {
     "name": "stdout",
     "output_type": "stream",
     "text": [
      "Epoch 1/30\n",
      "126/126 [==============================] - 158s 1s/step - loss: 4.8999 - accuracy: 0.1155 - val_loss: 4.4793 - val_accuracy: 0.1455\n",
      "Epoch 2/30\n",
      "126/126 [==============================] - 146s 1s/step - loss: 4.1169 - accuracy: 0.1669 - val_loss: 4.3597 - val_accuracy: 0.1737\n",
      "Epoch 3/30\n",
      "126/126 [==============================] - 146s 1s/step - loss: 3.6294 - accuracy: 0.2096 - val_loss: 4.3927 - val_accuracy: 0.1836\n",
      "Epoch 4/30\n",
      "126/126 [==============================] - 146s 1s/step - loss: 3.1923 - accuracy: 0.2495 - val_loss: 4.4996 - val_accuracy: 0.1815\n",
      "Epoch 5/30\n",
      "126/126 [==============================] - 146s 1s/step - loss: 2.7863 - accuracy: 0.2939 - val_loss: 4.6250 - val_accuracy: 0.1773\n",
      "Epoch 6/30\n",
      "126/126 [==============================] - 146s 1s/step - loss: 2.4113 - accuracy: 0.3453 - val_loss: 4.7577 - val_accuracy: 0.1707\n",
      "Epoch 7/30\n",
      "126/126 [==============================] - 146s 1s/step - loss: 2.0685 - accuracy: 0.4019 - val_loss: 4.8942 - val_accuracy: 0.1666\n",
      "Epoch 8/30\n",
      "126/126 [==============================] - 146s 1s/step - loss: 1.7621 - accuracy: 0.4621 - val_loss: 5.0194 - val_accuracy: 0.1661\n",
      "Epoch 9/30\n",
      "126/126 [==============================] - 146s 1s/step - loss: 1.4895 - accuracy: 0.5280 - val_loss: 5.1590 - val_accuracy: 0.1629\n",
      "Epoch 10/30\n",
      "126/126 [==============================] - 146s 1s/step - loss: 1.2509 - accuracy: 0.5927 - val_loss: 5.2868 - val_accuracy: 0.1568\n",
      "Epoch 11/30\n",
      "126/126 [==============================] - 146s 1s/step - loss: 1.0628 - accuracy: 0.6475 - val_loss: 5.4238 - val_accuracy: 0.1577\n",
      "Epoch 12/30\n",
      "126/126 [==============================] - 146s 1s/step - loss: 0.9171 - accuracy: 0.6881 - val_loss: 5.5503 - val_accuracy: 0.1573\n",
      "Epoch 13/30\n",
      "126/126 [==============================] - 146s 1s/step - loss: 0.7999 - accuracy: 0.7217 - val_loss: 5.6705 - val_accuracy: 0.1556\n",
      "Epoch 14/30\n",
      "126/126 [==============================] - 146s 1s/step - loss: 0.7051 - accuracy: 0.7494 - val_loss: 5.7951 - val_accuracy: 0.1523\n",
      "Epoch 15/30\n",
      "126/126 [==============================] - 146s 1s/step - loss: 0.6285 - accuracy: 0.7729 - val_loss: 5.8826 - val_accuracy: 0.1550\n",
      "Epoch 16/30\n",
      "126/126 [==============================] - 146s 1s/step - loss: 0.5670 - accuracy: 0.7910 - val_loss: 5.9793 - val_accuracy: 0.1557\n",
      "Epoch 17/30\n",
      "126/126 [==============================] - 146s 1s/step - loss: 0.5117 - accuracy: 0.8080 - val_loss: 6.0705 - val_accuracy: 0.1554\n",
      "Epoch 18/30\n",
      "126/126 [==============================] - 147s 1s/step - loss: 0.4693 - accuracy: 0.8226 - val_loss: 6.1764 - val_accuracy: 0.1505\n",
      "Epoch 19/30\n",
      "126/126 [==============================] - 146s 1s/step - loss: 0.4327 - accuracy: 0.8341 - val_loss: 6.2351 - val_accuracy: 0.1508\n",
      "Epoch 20/30\n",
      "126/126 [==============================] - 146s 1s/step - loss: 0.3975 - accuracy: 0.8456 - val_loss: 6.3325 - val_accuracy: 0.1517\n",
      "Epoch 21/30\n",
      "126/126 [==============================] - 146s 1s/step - loss: 0.3758 - accuracy: 0.8524 - val_loss: 6.4011 - val_accuracy: 0.1506\n",
      "Epoch 22/30\n",
      "126/126 [==============================] - 146s 1s/step - loss: 0.3500 - accuracy: 0.8615 - val_loss: 6.4713 - val_accuracy: 0.1487\n",
      "Epoch 23/30\n",
      "126/126 [==============================] - 146s 1s/step - loss: 0.3325 - accuracy: 0.8667 - val_loss: 6.5393 - val_accuracy: 0.1505\n",
      "Epoch 24/30\n",
      "126/126 [==============================] - 146s 1s/step - loss: 0.3212 - accuracy: 0.8705 - val_loss: 6.5770 - val_accuracy: 0.1490\n",
      "Epoch 25/30\n",
      "126/126 [==============================] - 146s 1s/step - loss: 0.3057 - accuracy: 0.8760 - val_loss: 6.6583 - val_accuracy: 0.1484\n",
      "Epoch 26/30\n",
      "126/126 [==============================] - 146s 1s/step - loss: 0.2963 - accuracy: 0.8782 - val_loss: 6.7161 - val_accuracy: 0.1497\n",
      "Epoch 27/30\n",
      "126/126 [==============================] - 146s 1s/step - loss: 0.2835 - accuracy: 0.8826 - val_loss: 6.7842 - val_accuracy: 0.1457\n",
      "Epoch 28/30\n",
      "126/126 [==============================] - 146s 1s/step - loss: 0.2747 - accuracy: 0.8855 - val_loss: 6.8036 - val_accuracy: 0.1459\n",
      "Epoch 29/30\n",
      "126/126 [==============================] - 146s 1s/step - loss: 0.2670 - accuracy: 0.8878 - val_loss: 6.8670 - val_accuracy: 0.1463\n",
      "Epoch 30/30\n",
      "126/126 [==============================] - 146s 1s/step - loss: 0.2580 - accuracy: 0.8915 - val_loss: 6.9308 - val_accuracy: 0.1461\n"
     ]
    }
   ],
   "source": [
    "# Training the model\n",
    "history= model.fit_generator(generator = generate_batch(X_train, y_train, batch_size = batch_size),\n",
    "                    steps_per_epoch = s,\n",
    "                    epochs=epochs,\n",
    "                    validation_data = generate_batch(X_test, y_test, batch_size = batch_size),\n",
    "                    validation_steps = v)\n",
    "\n",
    "# trains for 126 steps and validates for 68 steps"
   ]
  },
  {
   "cell_type": "code",
   "execution_count": 37,
   "metadata": {
    "colab": {
     "base_uri": "https://localhost:8080/"
    },
    "id": "QnW9B1yjlMLf",
    "outputId": "6a37e3a8-29be-4b78-8003-8a4da48e0aa6"
   },
   "outputs": [
    {
     "name": "stdout",
     "output_type": "stream",
     "text": [
      "[4.89993143081665, 4.116861820220947, 3.629406690597534, 3.1923093795776367, 2.7862799167633057, 2.4112725257873535, 2.0685386657714844, 1.7620784044265747, 1.4895163774490356, 1.2508964538574219, 1.0627650022506714, 0.9171239137649536, 0.7998698353767395, 0.7050794363021851, 0.6285393834114075, 0.5669769048690796, 0.5116888880729675, 0.46932855248451233, 0.43270328640937805, 0.3975330591201782, 0.3758072257041931, 0.3500286340713501, 0.3324531316757202, 0.3212486207485199, 0.30567410588264465, 0.29626351594924927, 0.283538818359375, 0.27474528551101685, 0.26701611280441284, 0.25800952315330505]\n",
      "[0.11545439064502716, 0.16689087450504303, 0.2096034437417984, 0.24951335787773132, 0.2939126193523407, 0.3453185260295868, 0.4018915295600891, 0.462123304605484, 0.5280113220214844, 0.5926865935325623, 0.6474709510803223, 0.6880739331245422, 0.7216548919677734, 0.7493859529495239, 0.772872269153595, 0.7909723520278931, 0.8079615831375122, 0.822566032409668, 0.8340772986412048, 0.845649778842926, 0.8524219989776611, 0.8614516854286194, 0.8667156100273132, 0.8704813718795776, 0.8760306239128113, 0.8781657218933105, 0.882558286190033, 0.885529100894928, 0.8877661228179932, 0.8915267586708069]\n",
      "[4.47927713394165, 4.359713554382324, 4.392733097076416, 4.499574661254883, 4.624980449676514, 4.757673263549805, 4.894156455993652, 5.019440174102783, 5.159039497375488, 5.286831378936768, 5.423824310302734, 5.550281047821045, 5.670507907867432, 5.795128345489502, 5.8826375007629395, 5.979288101196289, 6.070500373840332, 6.176448345184326, 6.23514461517334, 6.332519054412842, 6.4010772705078125, 6.471316337585449, 6.539328098297119, 6.576961040496826, 6.6582841873168945, 6.7160749435424805, 6.784188270568848, 6.803624629974365, 6.866977691650391, 6.930820465087891]\n",
      "[0.14548371732234955, 0.17373186349868774, 0.18362252414226532, 0.1814868301153183, 0.1772913634777069, 0.17069444060325623, 0.16660338640213013, 0.16613827645778656, 0.16289201378822327, 0.15675070881843567, 0.15774735808372498, 0.1572917401790619, 0.15557369589805603, 0.15232743322849274, 0.15497569739818573, 0.15565912425518036, 0.15541233122348785, 0.1505429446697235, 0.15081821382045746, 0.15168197453022003, 0.15056192874908447, 0.14872996509075165, 0.15046700835227966, 0.14904320240020752, 0.14836928248405457, 0.1496506929397583, 0.1456640660762787, 0.14591084420681, 0.14632849395275116, 0.14608170092105865]\n"
     ]
    }
   ],
   "source": [
    "print(history.history['loss'])\n",
    "print(history.history['accuracy'])\n",
    "print(history.history['val_loss'])\n",
    "print(history.history['val_accuracy'])"
   ]
  },
  {
   "cell_type": "code",
   "execution_count": 38,
   "metadata": {
    "colab": {
     "base_uri": "https://localhost:8080/",
     "height": 295
    },
    "id": "drhRGpZylUKT",
    "outputId": "ad5e1435-7aae-486a-be50-6427dbdf3a0d"
   },
   "outputs": [
    {
     "data": {
      "image/png": "[encoded data removed]",
      "text/plain": [
       "<Figure size 432x288 with 1 Axes>"
      ]
     },
     "metadata": {
      "needs_background": "light"
     },
     "output_type": "display_data"
    }
   ],
   "source": [
    "# Plot the Train Loss and Validation\n",
    "plt.plot(history.history['loss'])\n",
    "plt.plot(history.history['val_loss'])\n",
    "plt.title('Train Loss vs Validation Loss')\n",
    "plt.ylabel('Loss')\n",
    "plt.xlabel('Epochs')\n",
    "plt.legend(['Train', 'Validation'], loc='upper right')\n",
    "plt.show()"
   ]
  },
  {
   "cell_type": "markdown",
   "metadata": {
    "id": "sFhmb5av814M"
   },
   "source": [
    "> ### **Inference: The above plot shows us that the model has entered an overfit condition.**"
   ]
  },
  {
   "cell_type": "code",
   "execution_count": 39,
   "metadata": {
    "id": "VC_ed4IbF0Sy"
   },
   "outputs": [],
   "source": [
    "model.save_weights('nmt_weights.h5')\n",
    "model.load_weights('nmt_weights.h5')"
   ]
  },
  {
   "cell_type": "code",
   "execution_count": 40,
   "metadata": {
    "id": "6Xwc-95ZF0Sy"
   },
   "outputs": [],
   "source": [
    "# Encode the input sequence to get the \"thought vectors\"\n",
    "encoder_model = Model(encoder_inputs, encoder_states)\n",
    "\n",
    "# Decoder setup\n",
    "# Below tensors will hold the states of the previous time step\n",
    "decoder_state_input_h = Input(shape=(latent_dim,))\n",
    "decoder_state_input_c = Input(shape=(latent_dim,))\n",
    "decoder_states_inputs = [decoder_state_input_h, decoder_state_input_c]\n",
    "\n",
    "dec_emb2= dec_emb_layer(decoder_inputs) # Get the embeddings of the decoder sequence\n",
    "\n",
    "# To predict the next word in the sequence, set the initial states to the states from the previous time step\n",
    "decoder_outputs2, state_h2, state_c2 = decoder_lstm(dec_emb2, initial_state=decoder_states_inputs)\n",
    "decoder_states2 = [state_h2, state_c2]\n",
    "decoder_outputs2 = decoder_dense(decoder_outputs2) # A dense softmax layer to generate prob distribution over the target vocabulary\n",
    "\n",
    "# Final decoder model\n",
    "decoder_model = Model(\n",
    "    [decoder_inputs] + decoder_states_inputs,\n",
    "    [decoder_outputs2] + decoder_states2)\n"
   ]
  },
  {
   "cell_type": "code",
   "execution_count": 41,
   "metadata": {
    "id": "TH8qsCA2F0Sy"
   },
   "outputs": [],
   "source": [
    "def decode_sequence(input_seq):\n",
    "    # Encode the input as state vectors.\n",
    "    states_value = encoder_model.predict(input_seq)\n",
    "    # Generate empty target sequence of length 1.\n",
    "    target_seq = np.zeros((1,1))\n",
    "    # Populate the first character of target sequence with the start character.\n",
    "    target_seq[0, 0] = target_token_index['START_']\n",
    "\n",
    "    # Sampling loop for a batch of sequences (to simplify, here we assume a batch of size 1).\n",
    "    stop_condition = False\n",
    "    decoded_sentence = ''\n",
    "    while not stop_condition:\n",
    "        output_tokens, h, c = decoder_model.predict([target_seq] + states_value)\n",
    "\n",
    "        # Sample a token\n",
    "        sampled_token_index = np.argmax(output_tokens[0, -1, :])\n",
    "        sampled_char = reverse_target_char_index[sampled_token_index]\n",
    "        decoded_sentence += ' '+sampled_char\n",
    "\n",
    "        # Exit condition: either hit max length or find stop character.\n",
    "        if (sampled_char == '_END' or\n",
    "           len(decoded_sentence) > 50):\n",
    "            stop_condition = True\n",
    "\n",
    "        # Update the target sequence (of length 1).\n",
    "        target_seq = np.zeros((1,1))\n",
    "        target_seq[0, 0] = sampled_token_index\n",
    "\n",
    "        # Update states\n",
    "        states_value = [h, c]\n",
    "\n",
    "    return decoded_sentence"
   ]
  },
  {
   "cell_type": "markdown",
   "metadata": {
    "id": "ZIJSNtx20VDV"
   },
   "source": [
    "> ## **Testing the Learning Model:**\n",
    "\n",
    "* Here, we test our model and check for predicted answers.\n",
    "* We also calculate the BLEU (Bilingual Evaluation Understudy) Score for the model.\n",
    "\n"
   ]
  },
  {
   "cell_type": "code",
   "execution_count": 42,
   "metadata": {
    "id": "Y2PVaYdbF0Sy"
   },
   "outputs": [],
   "source": [
    "train_gen = generate_batch(X_train, y_train, batch_size = 1)\n",
    "k=-1"
   ]
  },
  {
   "cell_type": "code",
   "execution_count": 43,
   "metadata": {
    "colab": {
     "base_uri": "https://localhost:8080/"
    },
    "id": "AEo7jRjNF0Sz",
    "outputId": "ee2b1c03-f8ab-43b2-94cd-ef5c43b4c2f2"
   },
   "outputs": [
    {
     "name": "stdout",
     "output_type": "stream",
     "text": [
      "Input English sentence: so china’s “socialism with chinese characteristics” is an economy where an increasing share of national income goes to the state\n",
      "Actual Russian Translation:  таким образом китайский «социализм с китайским лицом» представляет собой экономику когда увеличивающуюся часть национального дохода получает государство \n",
      "Predicted Russian Translation:  таким образом китайский «социализм с китайским ли\n"
     ]
    }
   ],
   "source": [
    "k+=1\n",
    "(input_seq, actual_output), _ = next(train_gen)\n",
    "decoded_sentence1 = decode_sequence(input_seq)\n",
    "print('Input English sentence:', X_train[k:k+1].values[0])\n",
    "print('Actual Russian Translation:', y_train[k:k+1].values[0][6:-4])\n",
    "print('Predicted Russian Translation:', decoded_sentence1[:-4])"
   ]
  },
  {
   "cell_type": "code",
   "execution_count": 44,
   "metadata": {
    "colab": {
     "base_uri": "https://localhost:8080/"
    },
    "id": "k6D7ijDIJzZh",
    "outputId": "37883518-ed47-4c70-c05c-954918568c3e"
   },
   "outputs": [
    {
     "name": "stdout",
     "output_type": "stream",
     "text": [
      "0.7400828044922853\n"
     ]
    },
    {
     "name": "stderr",
     "output_type": "stream",
     "text": [
      "/usr/local/lib/python3.7/dist-packages/nltk/translate/bleu_score.py:490: UserWarning: \n",
      "Corpus/Sentence contains 0 counts of 2-gram overlaps.\n",
      "BLEU scores might be undesirable; use SmoothingFunction().\n",
      "  warnings.warn(_msg)\n"
     ]
    }
   ],
   "source": [
    "from nltk.translate.bleu_score import sentence_bleu\n",
    "r1= y_train[k:k+1].values[0][6:-4]\n",
    "c1= decoded_sentence1[:-4]\n",
    "score1 = sentence_bleu(r1, c1)\n",
    "print(score1)"
   ]
  },
  {
   "cell_type": "code",
   "execution_count": 45,
   "metadata": {
    "colab": {
     "base_uri": "https://localhost:8080/"
    },
    "id": "VZ5PH13SF0Sz",
    "outputId": "bec1da09-41c7-463c-e07c-8c3ad9ba33ca"
   },
   "outputs": [
    {
     "name": "stdout",
     "output_type": "stream",
     "text": [
      "Input English sentence: on one hand technological innovation will be needed to provide increasingly efficient components of lowcarbon climateresilient infrastructure\n",
      "Actual Russian Translation:  с одной стороны технологические инновации понадобятся для появления новых всё более эффективных компонентов низкоуглеродной климатоустойчивой инфраструктуры \n",
      "Predicted Russian Translation:  с одной стороны технологические – должны стреми\n"
     ]
    }
   ],
   "source": [
    "k+=1\n",
    "(input_seq, actual_output), _ = next(train_gen)\n",
    "decoded_sentence = decode_sequence(input_seq)\n",
    "print('Input English sentence:', X_train[k:k+1].values[0])\n",
    "print('Actual Russian Translation:', y_train[k:k+1].values[0][6:-4])\n",
    "print('Predicted Russian Translation:', decoded_sentence[:-4])"
   ]
  },
  {
   "cell_type": "code",
   "execution_count": 52,
   "metadata": {
    "colab": {
     "base_uri": "https://localhost:8080/"
    },
    "id": "OoYrzfz8_bBY",
    "outputId": "37b1af71-c9b9-41fe-d841-0f1b35601014"
   },
   "outputs": [
    {
     "name": "stdout",
     "output_type": "stream",
     "text": [
      "0.6848661007688605\n"
     ]
    },
    {
     "name": "stderr",
     "output_type": "stream",
     "text": [
      "/usr/local/lib/python3.7/dist-packages/nltk/translate/bleu_score.py:490: UserWarning: \n",
      "Corpus/Sentence contains 0 counts of 2-gram overlaps.\n",
      "BLEU scores might be undesirable; use SmoothingFunction().\n",
      "  warnings.warn(_msg)\n"
     ]
    }
   ],
   "source": [
    "from nltk.translate.bleu_score import sentence_bleu\n",
    "r2= y_train[k:k+1].values[0][6:-4]\n",
    "c2= decoded_sentence1[:-4]\n",
    "score2 = sentence_bleu(r2, c2)\n",
    "print(score2)"
   ]
  },
  {
   "cell_type": "code",
   "execution_count": 47,
   "metadata": {
    "colab": {
     "base_uri": "https://localhost:8080/"
    },
    "id": "TpMCn74OF0Sz",
    "outputId": "8f6a75bc-8b04-4112-ccfe-84ef3d52f380"
   },
   "outputs": [
    {
     "name": "stdout",
     "output_type": "stream",
     "text": [
      "Input English sentence: the british are quite comfortable with ambiguity\n",
      "Actual Russian Translation:  британцы совершенно довольны этой неопределенностью \n",
      "Predicted Russian Translation:  британцы совершенно довольны этой неопределенно\n"
     ]
    }
   ],
   "source": [
    "k+=1\n",
    "(input_seq, actual_output), _ = next(train_gen)\n",
    "decoded_sentence = decode_sequence(input_seq)\n",
    "print('Input English sentence:', X_train[k:k+1].values[0])\n",
    "print('Actual Russian Translation:', y_train[k:k+1].values[0][6:-4])\n",
    "print('Predicted Russian Translation:', decoded_sentence[:-4])"
   ]
  },
  {
   "cell_type": "code",
   "execution_count": 53,
   "metadata": {
    "colab": {
     "base_uri": "https://localhost:8080/"
    },
    "id": "CBHKvdLlhQ5o",
    "outputId": "22180c2a-9b3c-4c4b-d78c-87b192d7b25d"
   },
   "outputs": [
    {
     "name": "stdout",
     "output_type": "stream",
     "text": [
      "0.6848661007688605\n"
     ]
    },
    {
     "name": "stderr",
     "output_type": "stream",
     "text": [
      "/usr/local/lib/python3.7/dist-packages/nltk/translate/bleu_score.py:490: UserWarning: \n",
      "Corpus/Sentence contains 0 counts of 2-gram overlaps.\n",
      "BLEU scores might be undesirable; use SmoothingFunction().\n",
      "  warnings.warn(_msg)\n"
     ]
    }
   ],
   "source": [
    "from nltk.translate.bleu_score import sentence_bleu\n",
    "r3= y_train[k:k+1].values[0][6:-4]\n",
    "c3= decoded_sentence1[:-4]\n",
    "score3 = sentence_bleu(r3, c3)\n",
    "print(score3)"
   ]
  },
  {
   "cell_type": "code",
   "execution_count": 49,
   "metadata": {
    "colab": {
     "base_uri": "https://localhost:8080/"
    },
    "id": "OzIvkLCPF0Sz",
    "outputId": "a8854a8b-58da-479d-cf6a-eb17d444c12b"
   },
   "outputs": [
    {
     "name": "stdout",
     "output_type": "stream",
     "text": [
      "Input English sentence: economists can help by testing which international rules and institutions are needed to reform an inefficient and often inhumane system\n",
      "Actual Russian Translation:  экономисты могут помочь определив международные правила и учреждения необходимые для того чтобы реформировать неэффективную и часто бесчеловечную систему \n",
      "Predicted Russian Translation:  экономисты могут вызвать и помочь для его последоват\n"
     ]
    }
   ],
   "source": [
    "k+=1\n",
    "(input_seq, actual_output), _ = next(train_gen)\n",
    "decoded_sentence = decode_sequence(input_seq)\n",
    "print('Input English sentence:', X_train[k:k+1].values[0])\n",
    "print('Actual Russian Translation:', y_train[k:k+1].values[0][6:-4])\n",
    "print('Predicted Russian Translation:', decoded_sentence[:-4])"
   ]
  },
  {
   "cell_type": "code",
   "execution_count": 54,
   "metadata": {
    "colab": {
     "base_uri": "https://localhost:8080/"
    },
    "id": "HZMQpgQV_fPB",
    "outputId": "ea4e48aa-eb3a-402d-bf5b-f8d8d46d67ec"
   },
   "outputs": [
    {
     "name": "stdout",
     "output_type": "stream",
     "text": [
      "0.6848661007688605\n"
     ]
    },
    {
     "name": "stderr",
     "output_type": "stream",
     "text": [
      "/usr/local/lib/python3.7/dist-packages/nltk/translate/bleu_score.py:490: UserWarning: \n",
      "Corpus/Sentence contains 0 counts of 2-gram overlaps.\n",
      "BLEU scores might be undesirable; use SmoothingFunction().\n",
      "  warnings.warn(_msg)\n"
     ]
    }
   ],
   "source": [
    "from nltk.translate.bleu_score import sentence_bleu\n",
    "r4= y_train[k:k+1].values[0][6:-4]\n",
    "c4= decoded_sentence1[:-4]\n",
    "score4 = sentence_bleu(r4, c4)\n",
    "print(score4)"
   ]
  },
  {
   "cell_type": "code",
   "execution_count": 51,
   "metadata": {
    "colab": {
     "base_uri": "https://localhost:8080/"
    },
    "id": "_jJhLBCpF0Sz",
    "outputId": "3fc20492-0670-44a5-d8d4-09ed9088594e"
   },
   "outputs": [
    {
     "name": "stdout",
     "output_type": "stream",
     "text": [
      "Input English sentence: religion we are told is responsible for violence oppression poverty and many other ills\n",
      "Actual Russian Translation:  нам говорят что религия приводит к насилию угнетению нищете и многим другим бедам \n",
      "Predicted Russian Translation:  нам говорят что религия приводит к насилию угнет\n"
     ]
    }
   ],
   "source": [
    "k+=1\n",
    "(input_seq, actual_output), _ = next(train_gen)\n",
    "decoded_sentence = decode_sequence(input_seq)\n",
    "print('Input English sentence:', X_train[k:k+1].values[0])\n",
    "print('Actual Russian Translation:', y_train[k:k+1].values[0][6:-4])\n",
    "print('Predicted Russian Translation:', decoded_sentence[:-4])"
   ]
  },
  {
   "cell_type": "code",
   "execution_count": 55,
   "metadata": {
    "colab": {
     "base_uri": "https://localhost:8080/"
    },
    "id": "ba4-kbdsvObp",
    "outputId": "8c862a9f-6842-408e-d0be-7fef0d77e535"
   },
   "outputs": [
    {
     "name": "stdout",
     "output_type": "stream",
     "text": [
      "0.6848661007688605\n"
     ]
    },
    {
     "name": "stderr",
     "output_type": "stream",
     "text": [
      "/usr/local/lib/python3.7/dist-packages/nltk/translate/bleu_score.py:490: UserWarning: \n",
      "Corpus/Sentence contains 0 counts of 2-gram overlaps.\n",
      "BLEU scores might be undesirable; use SmoothingFunction().\n",
      "  warnings.warn(_msg)\n"
     ]
    }
   ],
   "source": [
    "from nltk.translate.bleu_score import sentence_bleu\n",
    "r5= y_train[k:k+1].values[0][6:-4]\n",
    "c5= decoded_sentence1[:-4]\n",
    "score5 = sentence_bleu(r5, c5)\n",
    "print(score5)"
   ]
  },
  {
   "cell_type": "code",
   "execution_count": 56,
   "metadata": {
    "colab": {
     "base_uri": "https://localhost:8080/"
    },
    "id": "S1kTiSXOvOjU",
    "outputId": "86f03a59-3aed-408a-d27c-23717a0b22b1"
   },
   "outputs": [
    {
     "name": "stdout",
     "output_type": "stream",
     "text": [
      "BLEU Score= 0.6959094415135454\n"
     ]
    }
   ],
   "source": [
    "#BLEU Score for Learning Model 1\n",
    "score= [score1, score2, score3, score4, score5]\n",
    "\n",
    "s= np.mean(score)\n",
    "print('BLEU Score=', s)"
   ]
  }
 ],
 "metadata": {
  "accelerator": "GPU",
  "colab": {
   "collapsed_sections": [],
   "machine_shape": "hm",
   "name": "5DMACP12_5A_01_CP.ipynb",
   "provenance": []
  },
  "kernelspec": {
   "display_name": "Python 3",
   "language": "python",
   "name": "python3"
  },
  "language_info": {
   "codemirror_mode": {
    "name": "ipython",
    "version": 3
   },
   "file_extension": ".py",
   "mimetype": "text/x-python",
   "name": "python",
   "nbconvert_exporter": "python",
   "pygments_lexer": "ipython3",
   "version": "3.8.8"
  }
 },
 "nbformat": 4,
 "nbformat_minor": 1
}
